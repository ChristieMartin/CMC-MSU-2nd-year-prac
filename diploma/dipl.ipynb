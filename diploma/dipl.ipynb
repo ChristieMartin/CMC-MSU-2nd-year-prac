{
 "cells": [
  {
   "cell_type": "code",
   "execution_count": 10,
   "metadata": {},
   "outputs": [],
   "source": [
    "from xml.dom.minidom import (parse, Element)"
   ]
  },
  {
   "cell_type": "code",
   "execution_count": 11,
   "metadata": {},
   "outputs": [],
   "source": [
    "corpus_filename = 'Tselina'\n",
    "#corpus_filename = 'pedagogika'\n",
    "#corpus_filename = 'sirija'\n",
    "\n",
    "file_ext = '.xml'\n",
    "doc = parse(corpus_filename + file_ext)\n",
    "sentences = doc.getElementsByTagName('S') # все элементы с тегом S (все предложения корпуса)"
   ]
  },
  {
   "cell_type": "code",
   "execution_count": 12,
   "metadata": {},
   "outputs": [
    {
     "data": {
      "text/plain": [
       "'Количество предложений в корпусе = 189'"
      ]
     },
     "execution_count": 12,
     "metadata": {},
     "output_type": "execute_result"
    }
   ],
   "source": [
    "f'Количество предложений в корпусе = {len(sentences)}'"
   ]
  },
  {
   "cell_type": "code",
   "execution_count": 130,
   "metadata": {},
   "outputs": [],
   "source": [
    "class Sentence:\n",
    "    def __init__(self, sent: Element):\n",
    "        self.id = sent.getAttribute('ID')\n",
    "        self.words = []\n",
    "        \n",
    "        self.parseWords(sent.getElementsByTagName('W'))\n",
    "        # получаем все элементы xml с тегом W (слова)\n",
    "        \n",
    "    def parseWords(self, rawWords):\n",
    "        \n",
    "        self.wordMap = {} # для последующего связывания слов\n",
    "        # ключ - доминатор(айди доминатора) этого слова\n",
    "        # значение - список слов, для которых доминатор равен ключу\n",
    "        \n",
    "        for rawWord in rawWords:\n",
    "            \n",
    "            word = Word(rawWord, self.id) # переносим в класс\n",
    "            \n",
    "            self.words.append(word) # добавляем в общий список слов\n",
    "            \n",
    "            if word.dom == '_root':\n",
    "                self.rootWord = word # корневое слово\n",
    "                \n",
    "            # добавление в мапу\n",
    "            if word.dom in self.wordMap.keys():\n",
    "                self.wordMap[word.dom].append(word)\n",
    "            else:\n",
    "                self.wordMap[word.dom] = [word]\n",
    "\n",
    "        # цикл по всем словам, чтобы связать их с помощью мапы\n",
    "        for word in self.words:\n",
    "            if word.id in self.wordMap.keys():\n",
    "                for d in self.wordMap[word.id]:\n",
    "                    word.addWord(d)\n",
    "    def printGram(self):\n",
    "        # печать грамматики предложения = печать грамматики одного слова(которое печатает все свои связанные слова, то есть все слова в предложении)\n",
    "        self.rootWord.printGram(True) \n",
    "        \n",
    "        \n",
    "class Word:\n",
    "    def __init__(self, w: Element, sentId):\n",
    "        self.dom = w.getAttribute('DOM')\n",
    "        self.feat = w.getAttribute('FEAT')\n",
    "        self.id = w.getAttribute('ID')\n",
    "        self.lemma = w.getAttribute('LEMMA')\n",
    "        self.link = w.getAttribute('LINK')\n",
    "        self.sentId = sentId\n",
    "        \n",
    "        self.connectedWords = [] #связанные с этим словом слова\n",
    "        \n",
    "    def addWord(self, w):\n",
    "        # добавление слова в связанные с этим словом слова\n",
    "        self.connectedWords.append(w)\n",
    "        \n",
    "    def printGram(self, checkProj):\n",
    "        if checkProj:\n",
    "            t = checkProjectivity(self, {}, 0)\n",
    "            if not t:\n",
    "                # закомментировать return, чтобы такие предложения не пропускались\n",
    "                #print(f'\\nNOT PROJECTIVE, {self.sentId}\\n')\n",
    "                return\n",
    "        print(f'F([{self.feat}])->', end = '') # F(t) ->\n",
    "        \n",
    "        if self.connectedWords == []:\n",
    "            print(f'[{self.feat}]\\n', end = '') # когда узел - терминальный\n",
    "            \n",
    "        else:\n",
    "            t = False # для расположения граммем слова в нужном месте\n",
    "            for w in self.connectedWords:\n",
    "                \n",
    "                # проход по всем словам в связанных словах\n",
    "                if not t and (int(w.id) > int(self.id)): \n",
    "                    # когда этого не происходило ранее и когда айди текущего связанного слова превысило айди самого слова\n",
    "                    print(f'[{self.feat}]', end = '')\n",
    "                    t = True\n",
    "                    \n",
    "                print(f';D([{w.feat}], {w.link});', end = '') # D(t, s)\n",
    "            if not t:\n",
    "                print(f'[{self.feat}]', end = '')\n",
    "            for w in self.connectedWords:\n",
    "                print(f'\\nD([{w.feat}], {w.link})->F([{w.feat}])') #D(t, s) -> F(t)\n",
    "                #print() # раскомментировать и закомментировать предыдущую, если не хотим печатать D(t, s) -> F(t)\n",
    "                w.printGram(False)\n",
    "                \n",
    "def checkProjectivity(rootWord, seenWordsIds, floor):\n",
    "    if floor not in seenWordsIds.keys():\n",
    "        # создаем список для этого яруса\n",
    "        seenWordsIds[floor] = []\n",
    "    if any(map(lambda x: int(x) > int(rootWord.id), seenWordsIds[floor])):\n",
    "        # если в истории этого яруса есть id больший, чем id текущего узла\n",
    "        return False\n",
    "    seenWordsIds[floor].append(rootWord.id) # добавляем в историю id текущего узла\n",
    "    if rootWord.connectedWords == []: # если нет поддеревьев\n",
    "        return True\n",
    "    t = True\n",
    "    for w in rootWord.connectedWords:\n",
    "        # проверяем все поддеревья\n",
    "        t = t and checkProjectivity(w, seenWordsIds, floor + 1)\n",
    "        if not t:\n",
    "            # если случай найден, то возвращаем сразу же\n",
    "            return t\n",
    "    return t   \n",
    "        "
   ]
  },
  {
   "cell_type": "code",
   "execution_count": 112,
   "metadata": {},
   "outputs": [],
   "source": [
    "def parseSentences():\n",
    "    for sent in sentences:\n",
    "        #пробегаемся по всем предложениям корпуса\n",
    "        parseSentence(sent)\n",
    "\n",
    "def parseSentence(sent: Element):\n",
    "    sentence = Sentence(sent)\n",
    "    sentence.printGram()"
   ]
  },
  {
   "cell_type": "code",
   "execution_count": 15,
   "metadata": {},
   "outputs": [],
   "source": [
    "import sys\n",
    "filename = corpus_filename + '_' + 'gram.out'"
   ]
  },
  {
   "cell_type": "code",
   "execution_count": 116,
   "metadata": {},
   "outputs": [],
   "source": [
    "orig_stdout = sys.stdout\n",
    "f = open(filename, 'w', encoding = 'utf-16')\n",
    "sys.stdout = f\n",
    "# перенаправление stdout в файл, чтобы все печаталось в файл\n",
    "\n",
    "parseSentences()\n",
    "\n",
    "# перенаправление обратно\n",
    "sys.stdout = orig_stdout\n",
    "f.close()"
   ]
  },
  {
   "cell_type": "code",
   "execution_count": 227,
   "metadata": {},
   "outputs": [],
   "source": [
    "filename_sorted = corpus_filename + '_' + 'gram_sorted.out'"
   ]
  },
  {
   "cell_type": "code",
   "execution_count": 151,
   "metadata": {},
   "outputs": [],
   "source": [
    "# сортировка и удаление дубликатов в файле\n",
    "def printSortedNoDuplicatesFile():\n",
    "    lines_seen = set()\n",
    "    with open(filename, 'r', encoding = 'utf-16') as r:\n",
    "        with open(filename_sorted, 'w', encoding = 'utf-16') as f:\n",
    "            for line in sorted(r):\n",
    "                if line not in lines_seen:\n",
    "                    line = str(line.strip())\n",
    "\n",
    "                    if len(line) != 0 and line[-1] == ';':\n",
    "                        line = line[:-1].strip()\n",
    "                    #if '||' in line:\n",
    "                    line = line.replace(';;', ';')\n",
    "                    line = line.replace('->;', '->')\n",
    "                    line += '\\n'  \n",
    "                    if line == '\\n':\n",
    "                        continue\n",
    "                    print(line, end = '', file = f)\n",
    "                    lines_seen.add(line)"
   ]
  },
  {
   "cell_type": "code",
   "execution_count": 229,
   "metadata": {},
   "outputs": [],
   "source": [
    "printSortedNoDuplicatesFile()"
   ]
  },
  {
   "cell_type": "code",
   "execution_count": 152,
   "metadata": {},
   "outputs": [],
   "source": [
    "# для теста\n",
    "# печатает грамматику одного предложения\n",
    "\n",
    "sentence_id = 1 #id предложения в корпусе <S ID = 'sentence_id'>\n",
    "\n",
    "filename = 'test/test.out'\n",
    "filename_sorted = 'test/test_sorted.out'\n",
    "\n",
    "orig_stdout = sys.stdout\n",
    "f = open(filename, 'w', encoding = 'utf-16')\n",
    "sys.stdout = f\n",
    "# перенаправление stdout в файл, чтобы все печаталось в файл\n",
    "\n",
    "sentence = Sentence(sentences[sentence_id - 1])\n",
    "sentence.printGram()\n",
    "\n",
    "# перенаправление обратно\n",
    "sys.stdout = orig_stdout\n",
    "f.close()\n",
    "\n",
    "printSortedNoDuplicatesFile()"
   ]
  },
  {
   "cell_type": "code",
   "execution_count": 207,
   "metadata": {},
   "outputs": [],
   "source": [
    "d_gram_map = {}\n",
    "f_gram_map = {}"
   ]
  },
  {
   "cell_type": "code",
   "execution_count": 208,
   "metadata": {},
   "outputs": [],
   "source": [
    "def addToMap(mapName, key, value):\n",
    "    if key in mapName.keys():\n",
    "        mapName[key].append(value)\n",
    "    else:\n",
    "        mapName[key] = [value]\n",
    "\n",
    "def mapGrammar(filename):\n",
    "    with open(filename, 'r', encoding = 'utf-16') as r:\n",
    "        for line in r:\n",
    "            s = line.split('->')\n",
    "            p = s[0].strip()\n",
    "            w = s[1].strip().replace('\\n', '')\n",
    "            if (p[0] == 'D'):\n",
    "                addToMap(d_gram_map, p, w)\n",
    "            else:\n",
    "                addToMap(f_gram_map, p, w)"
   ]
  },
  {
   "cell_type": "code",
   "execution_count": 359,
   "metadata": {},
   "outputs": [],
   "source": [
    "def printGrammarMap(mapName):\n",
    "    for key, value in mapName.items():\n",
    "        s = ' | '.join(value)\n",
    "        s = ' '.join(s.split(';'))\n",
    "        print(key, '->', s)\n",
    "    print()"
   ]
  },
  {
   "cell_type": "code",
   "execution_count": 210,
   "metadata": {},
   "outputs": [],
   "source": [
    "def dMapFirstStep():\n",
    "    for key, value in d_gram_map.items():\n",
    "        d_gram_map[key] = f_gram_map[d_gram_map[key][0]]"
   ]
  },
  {
   "cell_type": "code",
   "execution_count": 351,
   "metadata": {},
   "outputs": [],
   "source": [
    "\n",
    "def removeRecursion(d_gram_map):\n",
    "    new_map = {}\n",
    "    t = True\n",
    "    while t:\n",
    "        t = False\n",
    "        for key, value in d_gram_map.items():\n",
    "            if 'D(' not in str(value) and key not in new_map.keys():\n",
    "                t = True\n",
    "                new_map[key] = value\n",
    "                for k, v in d_gram_map.items():\n",
    "                    l = []\n",
    "                    if key in str(v):\n",
    "                        for item in v:\n",
    "                            for val in value:\n",
    "                                l.append(item.replace(key, val))\n",
    "                    if l != []:\n",
    "                        d_gram_map[k] = l\n",
    "                        \n",
    "    return d_gram_map\n",
    "            "
   ]
  },
  {
   "cell_type": "code",
   "execution_count": 350,
   "metadata": {},
   "outputs": [],
   "source": [
    "import copy"
   ]
  },
  {
   "cell_type": "code",
   "execution_count": 366,
   "metadata": {},
   "outputs": [
    {
     "name": "stdout",
     "output_type": "stream",
     "text": [
      "D([A ЕД МУЖ ДАТ], опред) -> F([A ЕД МУЖ ДАТ])\n",
      "D([A МН ВИН НЕОД], опред) -> F([A МН ВИН НЕОД])\n",
      "D([A МН РОД], опред) -> F([A МН РОД])\n",
      "D([ADV], обст) -> F([ADV])\n",
      "D([CONJ], сочин) -> F([CONJ])\n",
      "D([PR], 1-компл) -> F([PR])\n",
      "D([PR], 2-компл) -> F([PR])\n",
      "D([PR], обст) -> F([PR])\n",
      "D([S ЕД ЖЕН ВИН НЕОД], предл) -> F([S ЕД ЖЕН ВИН НЕОД])\n",
      "D([S ЕД МУЖ ДАТ НЕОД], предл) -> F([S ЕД МУЖ ДАТ НЕОД])\n",
      "D([S ЕД СРЕД ВИН НЕОД], предл) -> F([S ЕД СРЕД ВИН НЕОД])\n",
      "D([S МН ЖЕН РОД НЕОД], 1-компл) -> F([S МН ЖЕН РОД НЕОД])\n",
      "D([S МН МУЖ ВИН НЕОД], 1-компл) -> F([S МН МУЖ ВИН НЕОД])\n",
      "D([V СОВ ИЗЪЯВ ПРОШ ЕД МУЖ], соч-союзн) -> F([V СОВ ИЗЪЯВ ПРОШ ЕД МУЖ])\n",
      "F([A ЕД МУЖ ДАТ]) -> [A ЕД МУЖ ДАТ]\n",
      "F([A МН ВИН НЕОД]) -> [A МН ВИН НЕОД]\n",
      "F([A МН РОД]) -> [A МН РОД]\n",
      "F([ADV]) -> [ADV]\n",
      "F([CONJ]) -> [CONJ] D([V СОВ ИЗЪЯВ ПРОШ ЕД МУЖ], соч-союзн)\n",
      "F([PR]) -> [PR] D([S ЕД ЖЕН ВИН НЕОД], предл) | [PR] D([S ЕД МУЖ ДАТ НЕОД], предл) | [PR] D([S ЕД СРЕД ВИН НЕОД], предл)\n",
      "F([S ЕД ЖЕН ВИН НЕОД]) -> [S ЕД ЖЕН ВИН НЕОД] D([PR], 2-компл)\n",
      "F([S ЕД МУЖ ДАТ НЕОД]) -> D([A ЕД МУЖ ДАТ], опред) [S ЕД МУЖ ДАТ НЕОД]\n",
      "F([S ЕД СРЕД ВИН НЕОД]) -> [S ЕД СРЕД ВИН НЕОД] D([S МН ЖЕН РОД НЕОД], 1-компл)\n",
      "F([S МН ЖЕН РОД НЕОД]) -> D([A МН РОД], опред) [S МН ЖЕН РОД НЕОД]\n",
      "F([S МН МУЖ ВИН НЕОД]) -> D([A МН ВИН НЕОД], опред) [S МН МУЖ ВИН НЕОД]\n",
      "F([V НЕСОВ ИЗЪЯВ ПРОШ ЕД МУЖ]) -> D([ADV], обст) [V НЕСОВ ИЗЪЯВ ПРОШ ЕД МУЖ] D([PR], обст) D([S МН МУЖ ВИН НЕОД], 1-компл) D([CONJ], сочин)\n",
      "F([V СОВ ИЗЪЯВ ПРОШ ЕД МУЖ]) -> [V СОВ ИЗЪЯВ ПРОШ ЕД МУЖ] D([PR], 1-компл)\n",
      "\n",
      "D([A ЕД МУЖ ДАТ], опред) -> [A ЕД МУЖ ДАТ]\n",
      "D([A МН ВИН НЕОД], опред) -> [A МН ВИН НЕОД]\n",
      "D([A МН РОД], опред) -> [A МН РОД]\n",
      "D([ADV], обст) -> [ADV]\n",
      "D([CONJ], сочин) -> [CONJ] D([V СОВ ИЗЪЯВ ПРОШ ЕД МУЖ], соч-союзн)\n",
      "D([PR], 1-компл) -> [PR] D([S ЕД ЖЕН ВИН НЕОД], предл) | [PR] D([S ЕД МУЖ ДАТ НЕОД], предл) | [PR] D([S ЕД СРЕД ВИН НЕОД], предл)\n",
      "D([PR], 2-компл) -> [PR] D([S ЕД ЖЕН ВИН НЕОД], предл) | [PR] D([S ЕД МУЖ ДАТ НЕОД], предл) | [PR] D([S ЕД СРЕД ВИН НЕОД], предл)\n",
      "D([PR], обст) -> [PR] D([S ЕД ЖЕН ВИН НЕОД], предл) | [PR] D([S ЕД МУЖ ДАТ НЕОД], предл) | [PR] D([S ЕД СРЕД ВИН НЕОД], предл)\n",
      "D([S ЕД ЖЕН ВИН НЕОД], предл) -> [S ЕД ЖЕН ВИН НЕОД] D([PR], 2-компл)\n",
      "D([S ЕД МУЖ ДАТ НЕОД], предл) -> D([A ЕД МУЖ ДАТ], опред) [S ЕД МУЖ ДАТ НЕОД]\n",
      "D([S ЕД СРЕД ВИН НЕОД], предл) -> [S ЕД СРЕД ВИН НЕОД] D([S МН ЖЕН РОД НЕОД], 1-компл)\n",
      "D([S МН ЖЕН РОД НЕОД], 1-компл) -> D([A МН РОД], опред) [S МН ЖЕН РОД НЕОД]\n",
      "D([S МН МУЖ ВИН НЕОД], 1-компл) -> D([A МН ВИН НЕОД], опред) [S МН МУЖ ВИН НЕОД]\n",
      "D([V СОВ ИЗЪЯВ ПРОШ ЕД МУЖ], соч-союзн) -> [V СОВ ИЗЪЯВ ПРОШ ЕД МУЖ] D([PR], 1-компл)\n",
      "\n",
      "D([A ЕД МУЖ ДАТ], опред) -> [A ЕД МУЖ ДАТ]\n",
      "D([A МН ВИН НЕОД], опред) -> [A МН ВИН НЕОД]\n",
      "D([A МН РОД], опред) -> [A МН РОД]\n",
      "D([ADV], обст) -> [ADV]\n",
      "D([CONJ], сочин) -> [CONJ] D([V СОВ ИЗЪЯВ ПРОШ ЕД МУЖ], соч-союзн)\n",
      "D([PR], 1-компл) -> [PR] D([S ЕД ЖЕН ВИН НЕОД], предл) | [PR] [A ЕД МУЖ ДАТ] [S ЕД МУЖ ДАТ НЕОД] | [PR] [S ЕД СРЕД ВИН НЕОД] [A МН РОД] [S МН ЖЕН РОД НЕОД]\n",
      "D([PR], 2-компл) -> [PR] D([S ЕД ЖЕН ВИН НЕОД], предл) | [PR] [A ЕД МУЖ ДАТ] [S ЕД МУЖ ДАТ НЕОД] | [PR] [S ЕД СРЕД ВИН НЕОД] [A МН РОД] [S МН ЖЕН РОД НЕОД]\n",
      "D([PR], обст) -> [PR] D([S ЕД ЖЕН ВИН НЕОД], предл) | [PR] [A ЕД МУЖ ДАТ] [S ЕД МУЖ ДАТ НЕОД] | [PR] [S ЕД СРЕД ВИН НЕОД] [A МН РОД] [S МН ЖЕН РОД НЕОД]\n",
      "D([S ЕД ЖЕН ВИН НЕОД], предл) -> [S ЕД ЖЕН ВИН НЕОД] D([PR], 2-компл)\n",
      "D([S ЕД МУЖ ДАТ НЕОД], предл) -> [A ЕД МУЖ ДАТ] [S ЕД МУЖ ДАТ НЕОД]\n",
      "D([S ЕД СРЕД ВИН НЕОД], предл) -> [S ЕД СРЕД ВИН НЕОД] [A МН РОД] [S МН ЖЕН РОД НЕОД]\n",
      "D([S МН ЖЕН РОД НЕОД], 1-компл) -> [A МН РОД] [S МН ЖЕН РОД НЕОД]\n",
      "D([S МН МУЖ ВИН НЕОД], 1-компл) -> [A МН ВИН НЕОД] [S МН МУЖ ВИН НЕОД]\n",
      "D([V СОВ ИЗЪЯВ ПРОШ ЕД МУЖ], соч-союзн) -> [V СОВ ИЗЪЯВ ПРОШ ЕД МУЖ] D([PR], 1-компл)\n",
      "\n"
     ]
    }
   ],
   "source": [
    "d_gram_map = {}\n",
    "f_gram_map = {}\n",
    "\n",
    "mapGrammar('test/test_sorted.out')\n",
    "printGrammarMap(d_gram_map | f_gram_map)\n",
    "dMapFirstStep()\n",
    "printGrammarMap(d_gram_map)\n",
    "new_map = removeRecursion(copy.deepcopy(d_gram_map))\n",
    "\n",
    "printGrammarMap(new_map)"
   ]
  }
 ],
 "metadata": {
  "kernelspec": {
   "display_name": "Python 3.10.0 64-bit",
   "language": "python",
   "name": "python3"
  },
  "language_info": {
   "codemirror_mode": {
    "name": "ipython",
    "version": 3
   },
   "file_extension": ".py",
   "mimetype": "text/x-python",
   "name": "python",
   "nbconvert_exporter": "python",
   "pygments_lexer": "ipython3",
   "version": "3.10.0"
  },
  "orig_nbformat": 4,
  "vscode": {
   "interpreter": {
    "hash": "afb734500600fd355917ca529030176ea0ca205570884b88f2f6f7d791fd3fbe"
   }
  }
 },
 "nbformat": 4,
 "nbformat_minor": 2
}
